{
 "cells": [
  {
   "cell_type": "markdown",
   "id": "3d85d381",
   "metadata": {},
   "source": [
    "\n",
    "# Métodos Numéricos no Grao en Matemáticas\n",
    "\n",
    "## Elementos de Fortran\n",
    "\n",
    "### Doble precisión\n",
    "- No se recomienda usar `0.d0`, por venir del F77, ni tampoco 0._8, por ser dependiente del compilador. En cambio:\n",
    "```fortran\n",
    "use iso_fortran_env, only :: real64\n",
    "0._real64\n",
    "```\n",
    " \n",
    "- En la sección _Real literal constants_ del libro de Metcalf [1] se propone `0._real64`. Al final de esta sección, se indica que la doble precisión de una variable, por ejemplo `x`,  podría indicarse con la sentencia `double precision x` pero es obsoleta: _\"we defer the description of this alternative but outmoded syntax to Appendix A.6\"_.\n",
    "- En el apéndice A.6, además de explicar que `double precision` es obsoleta, se presenta la sintaxis `d0`. Es decir, no se dice explícitamente que `d0` es  obsoleto pero sólo se menciona `d0` en un apéndice de material obsolescente.\n",
    "- Hay otra buena razón para no usarlo. Los ficheros de datos escritos con `d0` pasan a ser exclusivo de Fortran, ya que otros lenguajes pueden no entender esta notación.\n",
    "\n",
    "[1] Metcalf, Michael, and others, _Modern Fortran Explained: Incorporating Fortran 2023_, 6th edn (Oxford, 2023; online edn, Oxford Academic, 21 Mar. 2024), [https://doi.org/10.1093/oso/9780198876571.001.0001](https://doi.org/10.1093/oso/9780198876571.001.0001), accessed 17 Apr. 2025. "
   ]
  },
  {
   "cell_type": "markdown",
   "id": "d45cafd9",
   "metadata": {},
   "source": [
    "### Arrays de doble precisión"
   ]
  },
  {
   "cell_type": "code",
   "execution_count": 1,
   "id": "367e7a12",
   "metadata": {},
   "outputs": [
    {
     "name": "stdout",
     "output_type": "stream",
     "text": [
      "program prueba\n",
      "  use iso_fortran_env, only: real64\n",
      "  implicit none\n",
      "  integer :: i\n",
      "  real(real64) :: x(5)\n",
      "  print*, 'Crear un array de 5 posiciones con 1/3:'\n",
      "  x = 1/3;                       print*, 'Opcion. 1 ', x\n",
      "  x = 1/3.;                      print*, 'Opcion. 2 ', x\n",
      "  x = 1_real64/3;                print*, 'Opcion. 3 ', x\n",
      "  x = 1._real64/3;               print*, 'Opcion. 4 ', x\n",
      "  print*, 'Crear un array de 5 posiciones con i/3, i = 1, 5:'\n",
      "  x = [(real(i, real64), i = 1,5)]/3;  print*, 'Opcion. 5 ', x\n",
      "  x = [real(real64):: (i, i = 1,5)]/3; print*, 'Opcion. 6 ', x\n",
      "end program  \n"
     ]
    }
   ],
   "source": [
    "cat dp.f90"
   ]
  },
  {
   "cell_type": "code",
   "execution_count": 3,
   "id": "197318a8",
   "metadata": {},
   "outputs": [
    {
     "name": "stdout",
     "output_type": "stream",
     "text": [
      " Crear un array de 5 posiciones con 1/3:\n",
      " Opcion. 1    0.0000000000000000        0.0000000000000000        0.0000000000000000        0.0000000000000000        0.0000000000000000     \n",
      " Opcion. 2   0.33333334326744080       0.33333334326744080       0.33333334326744080       0.33333334326744080       0.33333334326744080     \n",
      " Opcion. 3    0.0000000000000000        0.0000000000000000        0.0000000000000000        0.0000000000000000        0.0000000000000000     \n",
      " Opcion. 4   0.33333333333333331       0.33333333333333331       0.33333333333333331       0.33333333333333331       0.33333333333333331     \n",
      " Crear un array de 5 posiciones con i/3, i = 1, 5:\n",
      " Opcion. 5   0.33333333333333331       0.66666666666666663        1.0000000000000000        1.3333333333333333        1.6666666666666667     \n",
      " Opcion. 6   0.33333333333333331       0.66666666666666663        1.0000000000000000        1.3333333333333333        1.6666666666666667     \n"
     ]
    }
   ],
   "source": [
    "gfortran -o a.exe dp.f90\n",
    "./a.exe"
   ]
  },
  {
   "cell_type": "markdown",
   "id": "8434cd09",
   "metadata": {},
   "source": [
    "\n",
    "### Operaciones vectoriales\n",
    "\n",
    "Ejemplificaremos algunos elementos de Fortran con la factorización LU.\n",
    "\n",
    "En este caso, el uso de operaciones vectoriales con secciones de matrices."
   ]
  },
  {
   "cell_type": "code",
   "execution_count": 4,
   "id": "8f0d5b75",
   "metadata": {},
   "outputs": [
    {
     "name": "stdout",
     "output_type": "stream",
     "text": [
      "module factor\n",
      "use iso_fortran_env, only: real64\n",
      "implicit none\n",
      "\n",
      "contains\n",
      "\n",
      "subroutine lu (a, l, u)\n",
      "real(real64), intent(in) :: a(:,:)\n",
      "real(real64), intent(inout) :: l(:,:), u(:,:)\n",
      "integer :: i, j\n",
      "\n",
      "l = 0._real64\n",
      "u = 0._real64\n",
      "do j = 1, size(a,2)\n",
      "  do i = 1, j\n",
      "    u(i,j) = a(i,j) - dot_product(l(i,1:i-1), u(1:i-1,j))\n",
      "  end do\n",
      "  l(j,j) = 1._real64\n",
      "  do i = j+1, size(a,2)\n",
      "    l(i,j) = (a(i,j) - dot_product(l(i,1:j-1), u(1:j-1,j))) / u(j,j)\n",
      "  end do\n",
      "end do\n",
      "end subroutine\n",
      "end module\n"
     ]
    }
   ],
   "source": [
    "cat factor.f90"
   ]
  },
  {
   "cell_type": "markdown",
   "id": "84f15399",
   "metadata": {},
   "source": [
    "Se enfatiza el uso de:\n",
    "- `intent`.\n",
    "- `dot_product` en vez de un nuevo bucle `do`.\n",
    "\n",
    "Como se verá, `factor()` es agnóstico respecto del uso de memoria estática o dinámica."
   ]
  },
  {
   "cell_type": "markdown",
   "id": "c11cd95d",
   "metadata": {},
   "source": [
    "### Memoria estática\n",
    "\n",
    "Primer ejemplo, uso de memoria estática:\n",
    "- Muy sencillo y, en general, sólo recomendado para pruebas específicas."
   ]
  },
  {
   "cell_type": "code",
   "execution_count": 5,
   "id": "f23867e1",
   "metadata": {},
   "outputs": [
    {
     "name": "stdout",
     "output_type": "stream",
     "text": [
      "program main_static\n",
      "use iso_Fortran_env, only: real64\n",
      "use factor, only: lu\n",
      "implicit none\n",
      "real(real64) :: a(3,3), l(3,3), u(3,3)\n",
      "integer :: i\n",
      "\n",
      "print *, 'Programa para testear la factorizacion LU, con la matriz estǭtica [9 2 1; 4 9 4; 7 8 9]:'\n",
      "print*, ' '\n",
      "a = reshape([real(real64):: 9,2,1, 4,9,4, 7,8,9], [3,3], order=[2,1])\n",
      "call lu(a, l, u)\n",
      "print*, 'Matriz L:'\n",
      "do i=1,size(l,1)\n",
      "  print*, l(i,:)\n",
      "enddo  \n",
      "print*, 'Matriz U:'\n",
      "do i=1,size(u,1)\n",
      "  print*, u(i,:)\n",
      "enddo  \n",
      "print*, 'Error ||L*U-A||_F:', norm2(matmul(l,u)-a)\n",
      "end program\n"
     ]
    }
   ],
   "source": [
    "cat main_static.f90 "
   ]
  },
  {
   "cell_type": "code",
   "execution_count": 6,
   "id": "2be9b7c8",
   "metadata": {},
   "outputs": [
    {
     "name": "stdout",
     "output_type": "stream",
     "text": [
      " Programa para testear la factorizacion LU, con la matriz estática [9 2 1; 4 9 4; 7 8 9]:\n",
      "  \n",
      " Matriz L:\n",
      "   1.0000000000000000        0.0000000000000000        0.0000000000000000     \n",
      "  0.44444444444444442        1.0000000000000000        0.0000000000000000     \n",
      "  0.77777777777777779       0.79452054794520555        1.0000000000000000     \n",
      " Matriz U:\n",
      "   9.0000000000000000        2.0000000000000000        1.0000000000000000     \n",
      "   0.0000000000000000        8.1111111111111107        3.5555555555555554     \n",
      "   0.0000000000000000        0.0000000000000000        5.3972602739726021     \n",
      " Error ||L*U-A||_F:   0.0000000000000000     \n"
     ]
    }
   ],
   "source": [
    "gfortran -o a.exe factor.f90 main_static.f90\n",
    "./a.exe"
   ]
  },
  {
   "cell_type": "markdown",
   "id": "c2003b20",
   "metadata": {},
   "source": [
    "Sirve para ejemplificar el uso de:\n",
    "- `reshape` con `order`.\n",
    "- `use` con `only`.\n",
    "- funciones intrínsecas como `matmul` y `norm2` que, para matrices, calcula la norma de Frobenius.\n",
    "\n",
    "Podemos aprovechar para separar la compilación y el _linkado_, mostrar los `.o` y los `.mod`:"
   ]
  },
  {
   "cell_type": "code",
   "execution_count": null,
   "id": "0dc6a03c",
   "metadata": {},
   "outputs": [],
   "source": [
    "# comando de compilado \n",
    "gfortran -c factor.f90 main_static.f90\n",
    "# comando de linkado\n",
    "gfortran -o a.exe factor.o main_static.o\n",
    "ls *.o\n",
    "ls *.mod"
   ]
  },
  {
   "cell_type": "markdown",
   "id": "91145b06",
   "metadata": {},
   "source": [
    "En PowerShell no se puede escribir un solo comando `ls *.o *.mod`, al contrario que en Cocalc."
   ]
  },
  {
   "cell_type": "markdown",
   "id": "3429091f",
   "metadata": {},
   "source": [
    "### Memoria dinámica\n",
    "- Alojamiento de memoria sencillo, sin comprobación de alojamiento previo o de errores."
   ]
  },
  {
   "cell_type": "code",
   "execution_count": 8,
   "id": "237e54d7",
   "metadata": {},
   "outputs": [
    {
     "name": "stdout",
     "output_type": "stream",
     "text": [
      "program main_dynamic\n",
      "use iso_Fortran_env, only: real64\n",
      "use factor, only: lu\n",
      "implicit none\n",
      "real(real64), allocatable :: a(:,:), l(:,:), u(:,:)\n",
      "integer :: n, i\n",
      "\n",
      "print *, 'Programa para testear la factorizacion LU, con memoria dinamica.'\n",
      "print*, ' '\n",
      "print*, 'Dimension de la matriz:'\n",
      "read*, n\n",
      "print*, n\n",
      "allocate(a(n,n), l(n,n), u(n,n))\n",
      "print*, 'Valores de la matriz:'\n",
      "do i = 1, n\n",
      "  read*, a(i,:)\n",
      "end do\n",
      "call print_matrix('A', a)\n",
      "call lu(a, l, u)\n",
      "call print_matrix('L', l)\n",
      "call print_matrix('U', u)\n",
      "print*, 'Error ||L*U-A||_F:', norm2(matmul(l,u)-a)\n",
      "\n",
      "contains\n",
      "\n",
      "subroutine print_matrix(name, a)\n",
      "character(*), intent(in) :: name\n",
      "real(real64), intent(in) :: a(:,:)\n",
      "\n",
      "print*, 'Matriz '//name//':'\n",
      "do i=1,size(a,1)\n",
      "  print*, a(i,:)\n",
      "enddo\n",
      "end subroutine\n",
      "end program\n"
     ]
    }
   ],
   "source": [
    "cat main_dynamic.f90"
   ]
  },
  {
   "cell_type": "code",
   "execution_count": null,
   "id": "dd9b2fc3",
   "metadata": {},
   "outputs": [
    {
     "name": "stdout",
     "output_type": "stream",
     "text": [
      "3 \n",
      "9 2 1 \n",
      "4 9 4 \n",
      "7 8 9\n"
     ]
    }
   ],
   "source": [
    "cat datos.txt"
   ]
  },
  {
   "cell_type": "code",
   "execution_count": 23,
   "id": "1a698646",
   "metadata": {},
   "outputs": [
    {
     "name": "stdout",
     "output_type": "stream",
     "text": [
      " Programa para testear la factorizacion LU, con memoria dinamica.\n",
      "  \n",
      " Dimension de la matriz:\n",
      "           3\n",
      " Valores de la matriz:\n",
      " Matriz A:\n",
      "   9.0000000000000000        2.0000000000000000        1.0000000000000000     \n",
      "   4.0000000000000000        9.0000000000000000        4.0000000000000000     \n",
      "   7.0000000000000000        8.0000000000000000        9.0000000000000000     \n",
      " Matriz L:\n",
      "   1.0000000000000000        0.0000000000000000        0.0000000000000000     \n",
      "  0.44444444444444442        1.0000000000000000        0.0000000000000000     \n",
      "  0.77777777777777779       0.79452054794520555        1.0000000000000000     \n",
      " Matriz U:\n",
      "   9.0000000000000000        2.0000000000000000        1.0000000000000000     \n",
      "   0.0000000000000000        8.1111111111111107        3.5555555555555554     \n",
      "   0.0000000000000000        0.0000000000000000        5.3972602739726021     \n",
      " Error ||L*U-A||_F:   0.0000000000000000     \n"
     ]
    }
   ],
   "source": [
    "gfortran -o a.exe factor.f90 main_dynamic.f90\n",
    "cat datos.dat | ./a.exe"
   ]
  },
  {
   "cell_type": "markdown",
   "id": "8bfe92d1",
   "metadata": {},
   "source": [
    "Sirve para ejemplificar el uso de:\n",
    "- Lectura desde fichero con redireción `|` ó `<`.\n",
    "- Uso de `contains` en el programa principal."
   ]
  },
  {
   "cell_type": "markdown",
   "id": "9e16102d",
   "metadata": {},
   "source": [
    "# Ejercicios\n",
    "1. En `factor.f90`, incluir otras factorizaciones."
   ]
  }
 ],
 "metadata": {
  "kernelspec": {
   "display_name": "PowerShell",
   "language": "powershell",
   "name": "powershell"
  },
  "language_info": {
   "codemirror_mode": "shell",
   "file_extension": ".ps1",
   "mimetype": "text/x-sh",
   "name": "powershell"
  }
 },
 "nbformat": 4,
 "nbformat_minor": 5
}
