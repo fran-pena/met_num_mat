{
 "cells": [
  {
   "cell_type": "markdown",
   "id": "05a2f494",
   "metadata": {},
   "source": [
    "## 1 Build and run a simple program"
   ]
  },
  {
   "cell_type": "markdown",
   "id": "608b521b",
   "metadata": {},
   "source": [
    "The folder `examples/skel_day1` contains the example program\n",
    "`solve_my_quadratic.f90` (real solutions of a quadratic equation) from the\n",
    "slide talk.\n",
    "\n",
    "1.  Compile and run this program with one of the compilers at your\n",
    "    disposal. You can use the Makefile that is also available in the\n",
    "    `examples/skel_day1` folder (`make solve_my_quadratic.exe`), or\n",
    "    compile directly via the command line.\n",
    "\n",
    "2.  In order to be able to run a single compiled executable with various\n",
    "    values of the coefficients a, b, c, change the program so it\n",
    "    repeatedly reads these three real values from standard input. Then,\n",
    "    run the program at least with the following combinations:\n",
    "\n",
    "|  a   |  b   |  c   |\n",
    "|:----:|:----:|:----:| \n",
    "|  2.0 | -2.0 | -1.5 |\n",
    "|  2.0 | -2.0 | +1.5 |\n",
    "\n",
    "> Fix the problem that arises when the second set of values is used.\n",
    "> What happens if you supply non-numerical input?\n",
    "\n",
    "3.  Modify the program to deal more gracefully with non-numerical input\n",
    "    by catching the I/O error. This can be done by adding an\n",
    "    `iostat=<integer_variable>` specification (separated by a comma) in\n",
    "    the I/O statement and checking the integer result for being a\n",
    "    nonzero value. What other problems might you encounter when reading\n",
    "    data from standard input?\n",
    "\n",
    "<!-- -->\n",
    "\n",
    "4.  Replace the \"*\" format used for output by a format string that\n",
    "    displays 10 digits after the decimal point, using scientific\n",
    "    notation. Then re-execute the program with\n",
    "\n",
    "|   a   |  b    |  c    |\n",
    "|:-----:|:-----:|:-----:| \n",
    "|  2.0  | -2.31 | -1.76 |\n",
    "\n",
    "\n",
    "The solution for this exercise will be contained in the file\n",
    "`solve_my_quadratic.f90` of the folder `examples/solutions_day1/`.\n"
   ]
  },
  {
   "cell_type": "code",
   "execution_count": null,
   "id": "ffc79592",
   "metadata": {},
   "outputs": [],
   "source": [
    "%%writefile solve_my_quadratic.f90\n",
    "program solve_my_quadratic \n",
    "  implicit none\n",
    "  real, parameter :: a = 2.0, b = -2.0, c = -1.5\n",
    "  real :: x1, x2\n",
    "  intrinsic :: sqrt\n",
    "\n",
    "  x1 = ( -b + sqrt(b**2 - 4. * a * c) ) / ( 2. * a )\n",
    "  x2 = ( -b - sqrt(b**2 - 4. * a * c) ) / ( 2. * a )\n",
    "\n",
    "  write(*, fmt=*) 'Solutions are: ', x1, x2\n",
    "end program"
   ]
  },
  {
   "cell_type": "code",
   "execution_count": null,
   "id": "6a9e769e",
   "metadata": {},
   "outputs": [],
   "source": [
    "\n",
    "!gfortran -O2    solve_my_quadratic.f90  -o solve_my_quadratic.exe \n",
    "!echo \"please run the executable solve_my_quadratic.x in a terminal since interaction required\""
   ]
  },
  {
   "cell_type": "markdown",
   "id": "25aabceb",
   "metadata": {},
   "source": [
    "## 2 Sums of squares"
   ]
  },
  {
   "cell_type": "markdown",
   "id": "85fb81b5",
   "metadata": {},
   "source": [
    "Declare an array of integers and write statements to store squares $j^2$ for \n",
    "$(j=1, ...)$ in that array. Then, calculate those integers $n$ for which\n",
    "\n",
    "$$\\sum_{j = 1}^{n}j^{2} \\leq 100$$\n",
    "\n",
    "What do you need to do if the right hand side of the inequality is\n",
    "10,000,000,000 instead of 100? How can the necessary changes to the\n",
    "program be minimized? Print out the resulting list of numbers with a\n",
    "suitably integer-formatted write statement.\n",
    "\n",
    "The solution for this exercise is in the file `sum_of_squares.f90` of the\n",
    "folder `examples/solutions_day1/`.\n"
   ]
  },
  {
   "cell_type": "code",
   "execution_count": null,
   "id": "3016a915",
   "metadata": {},
   "outputs": [],
   "source": [
    "%%writefile sum_of_squares.f90\n",
    "program sum_of_squares\n",
    "  implicit none\n",
    "\n",
    "  ! implement me\n",
    "  \n",
    "end program"
   ]
  },
  {
   "cell_type": "code",
   "execution_count": null,
   "id": "de4979cb",
   "metadata": {},
   "outputs": [],
   "source": [
    "\n",
    "!gfortran -O2    sum_of_squares.f90  -o sum_of_squares.exe\n",
    "!./sum_of_squares.exe "
   ]
  },
  {
   "cell_type": "markdown",
   "id": "4ae7bc9c",
   "metadata": {},
   "source": [
    "## 3 Calculating an approximation of π"
   ]
  },
  {
   "cell_type": "markdown",
   "id": "aaeccd77",
   "metadata": {},
   "source": [
    "The program `examples/skel_day1/pi_approx.f90` calculates an approximation\n",
    "of the integral\n",
    "\n",
    "$$\\frac{\\pi}{4} = \\ \\int_{0}^{\\infty}\\frac{dx}{1 + x^{2}}$$\n",
    "\n",
    "through a discretization process. How is the expression in the summation\n",
    "loop evaluated? Build the program and run it, measuring the execution\n",
    "time via the UNIX time command. Modify the program to avoid conversions\n",
    "and both check the results and re-measure the performance.\n",
    "\n",
    "The solution for this exercise will be contained in the file\n",
    "`pi_approx.f90` of the folder `examples/solutions_day1/`.\n",
    "\n",
    "! Hint "
   ]
  },
  {
   "cell_type": "code",
   "execution_count": null,
   "id": "97e848f9",
   "metadata": {},
   "outputs": [],
   "source": [
    "%%writefile pi_approx.f90\n",
    "program pi_approx\n",
    " implicit none\n",
    " integer, parameter :: lk = selected_int_kind(12)\n",
    " integer, parameter :: dk = selected_real_kind(13,100)\n",
    " integer(lk), parameter :: nsteps = 1000000000_lk\n",
    " integer(lk) :: i\n",
    " real(dk) :: pi, step, sum, x\n",
    "\n",
    " step = 1.0 / nsteps\n",
    " do i = 1, nsteps\n",
    "  x = (i - 0.5) * step\n",
    "  sum = sum + 1.0 / (1.0 + x*x)\n",
    " enddo\n",
    " pi = 4.0 * step * sum\n",
    " write(*, '(a,f20.17)') 'approximation of pi is ', pi\n",
    "end program"
   ]
  },
  {
   "cell_type": "code",
   "execution_count": null,
   "id": "f7909518",
   "metadata": {},
   "outputs": [],
   "source": [
    "\n",
    "!gfortran -O2    pi_approx.f90  -o pi_approx.exe\n",
    "!./pi_approx.exe "
   ]
  },
  {
   "cell_type": "markdown",
   "id": "5699d50c",
   "metadata": {},
   "source": [
    "## 4 Sorting a String"
   ]
  },
  {
   "cell_type": "markdown",
   "id": "ecb1ad60",
   "metadata": {},
   "source": [
    "(This exercise is from \"Modern Fortran Explained\", Section 4.6)\n",
    "\n",
    "Define a character variable of length 80. Write a program that reads a\n",
    "value for this variable. Assuming that each character in the variable is\n",
    "alphabetic, write code that sorts them into alphabetic order, and prints\n",
    "out the frequency of occurrence of each letter.\n",
    "\n",
    "**Hint:** You might want to use the intrinsic function TRIM that removes\n",
    "trailing blanks from a string. For example,\n",
    "\n",
    "character(len=5) :: c\n",
    "\n",
    "character(len=4) :: a\n",
    "\n",
    "a = \\'w\\'\n",
    "\n",
    "c = TRIM(a) // \\'x\\'\n",
    "\n",
    "produces a value of c equal to \\'wx*bbb*\\', while the assignment c = a\n",
    "// x would produce \\'w*bbb*x\\' (italicized b indicates a blank).\n"
   ]
  },
  {
   "cell_type": "code",
   "execution_count": null,
   "id": "dc181c15",
   "metadata": {},
   "outputs": [],
   "source": [
    "%%writefile sort_string.f90\n",
    "program sort_string\n",
    "  implicit none\n",
    "\n",
    "  ! implement me\n",
    "  \n",
    "end program sort_string"
   ]
  },
  {
   "cell_type": "code",
   "execution_count": null,
   "id": "a2e0c49e",
   "metadata": {},
   "outputs": [],
   "source": [
    "\n",
    "!gfortran -O2    sort_string.f90  -o sort_string.exe \n",
    "!echo \"please run the executable sort_string.x in a terminal since interaction required\""
   ]
  },
  {
   "cell_type": "markdown",
   "id": "dabce923",
   "metadata": {},
   "source": [
    "## 5 Sieve of Eratosthenes"
   ]
  },
  {
   "cell_type": "markdown",
   "id": "05565d63",
   "metadata": {},
   "source": [
    "Write a program which calculates all prime numbers between 2 and a given\n",
    "integer, say 100 or 12534 and stores these numbers in an array; once the\n",
    "calculation is complete, print out the results.\n",
    "\n",
    "**Hint:** you might want to consult Wikipedia for the algorithm. See\n",
    "[http://en.wikipedia.org/wiki/Sieve_of_Eratosthenes](http://en.wikipedia.org/wiki/Sieve_of_Eratosthenes)\n",
    "\n",
    "The solution for this exercise will be contained in the file `sieve.f90`\n",
    "of the folder `examples/solutions_day1/`.\n"
   ]
  },
  {
   "cell_type": "code",
   "execution_count": null,
   "id": "b0d776a2",
   "metadata": {},
   "outputs": [],
   "source": [
    "%%writefile sieve.f90\n",
    "program sieve\n",
    "  implicit none\n",
    "\n",
    "  ! implement me\n",
    "  \n",
    "end program sieve"
   ]
  },
  {
   "cell_type": "code",
   "execution_count": null,
   "id": "8aa206ed",
   "metadata": {},
   "outputs": [],
   "source": [
    "\n",
    "!gfortran -O2    sieve.f90  -o sieve.exe\n",
    "!./sieve.exe "
   ]
  },
  {
   "cell_type": "markdown",
   "id": "ccf291e7",
   "metadata": {},
   "source": [
    "## 6 Calculate the area of a triangle"
   ]
  },
  {
   "cell_type": "markdown",
   "id": "b4a4ed2c",
   "metadata": {},
   "source": [
    "This exercise is of interest for people concerned with precise numerics.\n",
    "\n",
    "Given the lengths of the three sides of a triangle, write a program\n",
    "which calculates the latter's area. A skeleton program is available in\n",
    "the file `examples/skel_day1/triangle.f90`. Try to take care of spurious\n",
    "inputs, for example by skipping the processing of such input data.\\\n",
    "Consult\n",
    "[https://en.wikipedia.org/wiki/Heron's_formula](https://en.wikipedia.org/wiki/Heron's_formula)\n",
    "for information on how to calculate the required quantities.\n",
    "\n",
    "If you are interested in the numerical properties of this problem, you might also\n",
    "want to read the paper by W. Kahan, included as [Triangle.pdf]('md/exercises_day1/Triangle.pdf)\n",
    "\n",
    "The solution for this exercise will be contained in the file\n",
    "`triangle.f90` of the folder `examples/solutions_day1`. \n",
    "\n"
   ]
  },
  {
   "cell_type": "code",
   "execution_count": null,
   "id": "30f7d664",
   "metadata": {},
   "outputs": [],
   "source": [
    "%%writefile triangle.f90\n",
    "program triangle\n",
    "  implicit none\n",
    "  integer, parameter :: ndim = 4\n",
    "  integer :: i\n",
    "  real :: a(ndim), b(ndim), c(ndim), area(ndim)\n",
    "  real :: s\n",
    "  intrinsic :: sqrt\n",
    "! \n",
    "! input values\n",
    "  a(1) = 2.0; b(1) = 3.0; c(1) = 4.0\n",
    "  a(2) = 1.0; b(2) = 1.0; c(2) = 5.0\n",
    "  a(3) = 1.0; b(3) = 1.000005; c(3) = 0.000006\n",
    "  a(4) = -2.0; b(4) = 3.0; c(4) = 4.0\n",
    "!\n",
    "! Please add code for calculation below\n",
    " \n",
    "end program triangle"
   ]
  },
  {
   "cell_type": "code",
   "execution_count": null,
   "id": "e68a8b00",
   "metadata": {},
   "outputs": [],
   "source": [
    "\n",
    "!gfortran -O2    triangle.f90  -o triangle.exe\n",
    "!./triangle.exe "
   ]
  },
  {
   "cell_type": "markdown",
   "id": "42a1ff30",
   "metadata": {},
   "source": [
    "## 7 Greatest common divisor"
   ]
  },
  {
   "cell_type": "markdown",
   "id": "0042f7ba",
   "metadata": {},
   "source": [
    "1.  The GCD of two integer numbers a, b is the largest integer that\n",
    "    divides both numbers without a remainder. To calculate this quantity\n",
    "    an algorithm based on that invented by Euclid of Alexandria can be\n",
    "    used, which performs the following steps for positive integers a, b:\n",
    "\n",
    "| Step    | Action                                                                                |\n",
    "|:-------:|:------------------------------------------------------------------------------------- |\n",
    "| 1       | If \\|a\\| \\< \\|b\\| swap a and b                                                        |\n",
    "| 2       | Perform division with remainder a / b, assign the result to d, and the remainder to r |\n",
    "| 3       | If r is zero, go to Step 6                                                            |\n",
    "| 4       | Replace a by b and b by r                                                             |\n",
    "| 5       | Go to Step 2                                                                          |\n",
    "| 6       | b now contains the GCD                                                                |\n",
    "\n",
    "> Write a module containing a module function that calculates the GCD. A\n",
    "> main program is provided in examples/skel_day1/test_gcd.f90; it\n",
    "> invokes the function for a number of datasets and checks the\n",
    "> calculated results.\n",
    ">\n",
    "> The solution will be in the program files mod_gcd.f90 and test_gcd.f90\n",
    "> in the examples/solutions_day1 folder. The executable can be built via\n",
    "> the command make test_gcd.exe.\n",
    "\n",
    "2.  (This part is optional) The GCD can alternatively also be\n",
    "    represented by the following recursive definition:\n",
    "\n",
    "GCD(a, b) = b if a mod b equals zero,\n",
    "\n",
    "GCD(a, b) = GCD(a mod b, b) otherwise\n",
    "\n",
    "> Write a function that uses this definition to calculate the GCD and\n",
    "> check against the first implementation for correctness. Which\n",
    "> implementation do you expect to be faster?\n",
    "\n",
    "\n",
    "3. the PURE attribute\n",
    "\n",
    "what happens if you add the PURE attribute to the function you wrote in that exercise and attempt to recompile? If problems appear, please fix them. Otherwise, you can congratulate yourself on your good programming discipline.\n"
   ]
  },
  {
   "cell_type": "code",
   "execution_count": null,
   "id": "e9ea1fea",
   "metadata": {},
   "outputs": [],
   "source": [
    "%%writefile mod_gcd.f90\n",
    "module mod_gcd\n",
    "  implicit none\n",
    "  !FIXME\n",
    "end module mod_gcd"
   ]
  },
  {
   "cell_type": "code",
   "execution_count": null,
   "id": "4c732951",
   "metadata": {},
   "outputs": [],
   "source": [
    "\n",
    "!gfortran -O2  mod_gcd.f90 -c"
   ]
  },
  {
   "cell_type": "code",
   "execution_count": null,
   "id": "f83c50d4",
   "metadata": {},
   "outputs": [],
   "source": [
    "%%writefile test_gcd.f90\n",
    "program test_gcd\n",
    "  use mod_gcd\n",
    "  implicit none\n",
    "  call check_function(12, 2, 2)\n",
    "  call check_function(-12, 3, 3)\n",
    "  call check_function(-12, -3, 3)\n",
    "  call check_function(12, -3, 3)\n",
    "  call check_function(-3, 12, 3)\n",
    "  call check_function(12, 8, 4)\n",
    "  call check_function(12, -8, 4)\n",
    "  call check_function(0, 4, 4)\n",
    "  call check_function(0, -4, 4)\n",
    "  call check_function(0, 0, 0)\n",
    "  call check_function(42, 49, 7)\n",
    "contains\n",
    "  subroutine check_function(i,j,k)\n",
    "    integer :: i, j, k\n",
    "    integer :: l\n",
    "    l = gcd(i, j)\n",
    "!    l = gcd_r(i, j)\n",
    "    if (l == k) then\n",
    "       write(*, *) 'OK'\n",
    "    else\n",
    "       write(*, *) 'FAIL:   GCD(',i,j,' should be ',k,' but is ',l\n",
    "    end if\n",
    "  end subroutine check_function\n",
    "end program test_gcd"
   ]
  },
  {
   "cell_type": "code",
   "execution_count": null,
   "id": "a10e8960",
   "metadata": {},
   "outputs": [],
   "source": [
    "\n",
    "!gfortran -O2   mod_gcd.o  test_gcd.f90  -o test_gcd.exe\n",
    "!./test_gcd.exe "
   ]
  },
  {
   "cell_type": "markdown",
   "id": "20c42635",
   "metadata": {},
   "source": [
    "## 8 Procedure for solving quadratic equation"
   ]
  },
  {
   "cell_type": "markdown",
   "id": "0ee4115c",
   "metadata": {},
   "source": [
    "Improve on the program from session 1.\n",
    "\n",
    "1.  Write a module procedure as indicated in the talk, and make the main\n",
    "    program invoke this procedure; the procedure should return the\n",
    "    results in ascending order. Depending on the number of solutions\n",
    "    found, zero, one, or two results should be printed. Try compiling an\n",
    "    invocation of the procedure with incorrectly typed arguments, or the\n",
    "    wrong number of arguments.\n",
    "\n",
    "2.  Add statements to the main program that check the solutions by\n",
    "    evaluating the expression\\\n",
    "    $(a \\cdot \\ x^{2} + b\\  \\cdot x + c)/|x|$ via use of an internal\n",
    "    function. Run the main program for the following values of the\n",
    "    coefficients:\n",
    "\n",
    "|  a   |  b   |  c      |\n",
    "|:----:|:----:|:-------:| \n",
    "|  2.0 | -2.0 | -1.5    |\n",
    "|  2.0 |  7.4 |  0.2    |\n",
    "|  0.0 |  7.4 |  0.2    |\n",
    "|  2.0 |  7.4 |  0.0002 |\n",
    "\n",
    "3.  (This part is optional) Improve your module procedure by accounting\n",
    "    for the degenerate cases. What is causing the problems for the last\n",
    "    table row above? How can the relative accuracy be improved?\n",
    "    **Hint:** If $x_1$ and $x_2$ are the solutions, then the quadratic\n",
    "    expression must be equal to\n",
    "    $a\\  \\cdot \\left( x - \\ x_{1} \\right) \\cdot (x - \\ x_{2})$; if\n",
    "    one of the solutions is known, the other one can be obtained without\n",
    "    requiring a subtraction.\n",
    "\n",
    "The solution will be in the program files mod_solver.f90 and\n",
    "test_quadratic.f90 in the examples/solutions_day1 folder. The executable\n",
    "can be built via the command make test_quadratic.exe.\n"
   ]
  },
  {
   "cell_type": "code",
   "execution_count": null,
   "id": "ca2e3ad2",
   "metadata": {},
   "outputs": [],
   "source": [
    "%%writefile mod_solver.f90\n",
    "module mod_solver\n",
    "  implicit none\n",
    "\n",
    "  ! implement me\n",
    "  \n",
    "end module mod_solver"
   ]
  },
  {
   "cell_type": "code",
   "execution_count": null,
   "id": "f6aa4e17",
   "metadata": {},
   "outputs": [],
   "source": [
    "\n",
    "!gfortran -O2  mod_solver.f90 -c"
   ]
  },
  {
   "cell_type": "code",
   "execution_count": null,
   "id": "917047b0",
   "metadata": {},
   "outputs": [],
   "source": [
    "%%writefile test_quadratic.f90\n",
    "program test_quadratic\n",
    "  use ! FIXME\n",
    "  implicit none\n",
    "  \n",
    "  ! implement me\n",
    "  \n",
    "end program test_quadratic"
   ]
  },
  {
   "cell_type": "code",
   "execution_count": null,
   "id": "c7d33fb9",
   "metadata": {},
   "outputs": [],
   "source": [
    "\n",
    "!gfortran -O2   mod_solver.o  test_quadratic.f90  -o test_quadratic.exe\n",
    "!./test_quadratic.exe "
   ]
  },
  {
   "cell_type": "markdown",
   "id": "ae1c61f6",
   "metadata": {},
   "source": [
    "## 9 Calculate a dot product using BLAS"
   ]
  },
  {
   "cell_type": "markdown",
   "id": "ce646872",
   "metadata": {},
   "source": [
    "Skeleton code for this exercise is contained in the files `blas77.f90` and\n",
    "`calculate_dot_product.f90` of the folder `examples/skel_day1/`.\n",
    "\n",
    "The web page [https://www.netlib.org/blas/](https://www.netlib.org/blas/)\n",
    "documents the interfaces forthe Basic Linear Algebra Subroutines. \n",
    "Look up the description for calculating a dot product, using default \n",
    "real argument arrays. Then write a program that calculates and prints\n",
    "the **dot product** of the following arrays of size 100:\n",
    "\n",
    "X: 1.0, 1.0, 1.0, ...\n",
    "\n",
    "Y: 1.0, 2.0, 1.0, -2.0, 1.0, 2.0, 1.0, -2.0, ...\n",
    "\n",
    "The program should make use of a manually created explicit interface for\n",
    "a system installed open-source implementation of this function.\n",
    "The aim is to allow for a safer use of that unction on side of the calling program (client-side)\n",
    "\n",
    "\n",
    "**Note**\n",
    "\n",
    "On production-systems you would typically link agains optimized vendor libraries\n",
    "(e.g. Intel-MKL) for better perfomance. Also vendor-libraries may provide additional safer-to-use interfaces (F90-style)\n",
    "out of the box (in addition to the lesser-safe-to-use legacy f77-interface).\n",
    "\n",
    "e.g. Intel-MKL Fortran 90 style interface,\n",
    "an add-on module that contains the interface definitions; if you are\n",
    "interested, look for `blas.f90`, and then identify and compare the\n",
    "interface provided there with your solution. A multitude of more complex linear algebra problem solvers\n",
    "is available in the LAPACK library, which is layered on top of BLAS. An\n",
    "implementation of the LAPACK routines is also contained in the MKL.\n",
    "\n",
    "The solution will become available as the program files `blas77.f90` and\n",
    "`calculate_dot_product.f90` in the `examples/solutions_day1` folder.\n"
   ]
  },
  {
   "cell_type": "code",
   "execution_count": null,
   "id": "c1b78a7b",
   "metadata": {},
   "outputs": [],
   "source": [
    "%%writefile blas77.f90\n",
    "module blas77\n",
    "  implicit none\n",
    "  interface\n",
    "  ! FIXME: add required interface here\n",
    "  end interface\n",
    "end module"
   ]
  },
  {
   "cell_type": "code",
   "execution_count": null,
   "id": "b6e9b2b1",
   "metadata": {},
   "outputs": [],
   "source": [
    "\n",
    "!gfortran -O2  blas77.f90 -c"
   ]
  },
  {
   "cell_type": "code",
   "execution_count": null,
   "id": "ce1788ad",
   "metadata": {},
   "outputs": [],
   "source": [
    "%%writefile calculate_dot_product.f90\n",
    "program calculate_dot_product\n",
    "  use blas77\n",
    "  implicit none\n",
    "  integer, parameter :: nd = 100\n",
    "  real, dimension(nd) :: x, y\n",
    "  real :: dot_result\n",
    "  integer :: i\n",
    "\n",
    "  do i=1, nd\n",
    "    x(i) = 1.0\n",
    "    select case ( ??? )\n",
    "!   FIXME: add statements that initialize y as indicated in exercise sheet\n",
    "    end select\n",
    "  end do\n",
    "\n",
    "!   FIXME: complete the assignment statement\n",
    "  dot_result = \n",
    "\n",
    "  write(*, fmt='(A, E14.7)') 'Dot product has value ', dot_result\n",
    "end program"
   ]
  },
  {
   "cell_type": "code",
   "execution_count": null,
   "id": "542d4ee4",
   "metadata": {},
   "outputs": [],
   "source": [
    "\n",
    "!gfortran -O2   blas77.o  calculate_dot_product.f90  -lopenblas  -o calculate_dot_product.exe\n",
    "!./calculate_dot_product.exe "
   ]
  }
 ],
 "metadata": {
  "language_info": {
   "name": "python"
  }
 },
 "nbformat": 4,
 "nbformat_minor": 5
}
